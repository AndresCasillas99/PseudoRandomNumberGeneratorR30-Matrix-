{
 "cells": [
  {
   "cell_type": "markdown",
   "id": "viral-review",
   "metadata": {},
   "source": [
    "## Create the matrix"
   ]
  },
  {
   "cell_type": "code",
   "execution_count": 10,
   "id": "large-slovakia",
   "metadata": {},
   "outputs": [
    {
     "data": {
      "text/plain": [
       "create_canvas (generic function with 1 method)"
      ]
     },
     "execution_count": 10,
     "metadata": {},
     "output_type": "execute_result"
    }
   ],
   "source": [
    "canvas = zeros(Int8, (1000,1000))\n",
    "function create_canvas()\n",
    "    f = readlines(open(\"Rule30CentralColumn.txt\",\"r\")) \n",
    "    central_column = f[1]\n",
    "    central_column_array = []\n",
    "        for i in 1:length(central_column)\n",
    "            if central_column[i] == '0'\n",
    "                push!(central_column_array,0)\n",
    "            else\n",
    "                push!(central_column_array,1)\n",
    "            end\n",
    "        end\n",
    "    for j in 1:1000\n",
    "        for i in 1:1000\n",
    "            canvas[j,i] = central_column_array[(j-1)*1000+i]\n",
    "        end\n",
    "    end\n",
    "    return canvas\n",
    "end"
   ]
  },
  {
   "cell_type": "markdown",
   "id": "confident-staff",
   "metadata": {},
   "source": [
    "## The algorithm \n",
    "\n",
    "### R30rand(k,dir)\n",
    "\n",
    "##### produces a random number between 0 and 2^k\n",
    "##### dir = 1,2,3,4  represents the directions of reading (1 = right, 2 = up, 3 = left, 4 = down)"
   ]
  },
  {
   "cell_type": "code",
   "execution_count": 113,
   "id": "dominant-reception",
   "metadata": {},
   "outputs": [
    {
     "data": {
      "text/plain": [
       "R30rand (generic function with 1 method)"
      ]
     },
     "execution_count": 113,
     "metadata": {},
     "output_type": "execute_result"
    }
   ],
   "source": [
    "#Subroutine for parsing arrays to integers\n",
    "\n",
    "function array_to_string(arr)\n",
    "    str = \"\"\n",
    "    for i in 1:length(arr)\n",
    "        str *= string(arr[i])\n",
    "    end\n",
    "    parse(Int,str,base=2)\n",
    "end\n",
    "\n",
    "function R30rand(k,dir) #k is an integer in the interval [1,9], dir is an integer in the interval [1,4]\n",
    "    if (k > 999 || k <0 || dir < 1 || dir > 4)\n",
    "        return println(\"k must be an integer between 1 and 999, dir must be an integer between 1 and 4\")\n",
    "    else\n",
    "        array = []\n",
    "    #1. Pick a random point (x,y) where x, y \\in (k,length(canvas[1,:])-k)\n",
    "    #Notice that we should evaluate canvas[y,x] since the first coordenate is row and second coordinate is column\n",
    "    \n",
    "        x = rand(k:length(canvas[1,:])-k)\n",
    "        y = rand(k:length(canvas[1,:])-k)\n",
    "       \n",
    "        \n",
    "    #2. Pick a random direction\n",
    "    #(1 = right, 2 = up, 3 = left, 4 = down)\n",
    "        \n",
    "        if dir==1\n",
    "            array = canvas[y,x:x+k-1]\n",
    "        elseif dir ==2\n",
    "            array = canvas[y-k+1:y,x]\n",
    "        elseif dir ==3\n",
    "            array = canvas[y,x-k+1:x]\n",
    "        elseif dir==4\n",
    "            array = canvas[y:y+k-1,x]\n",
    "        end\n",
    "        return array_to_string(array)\n",
    "    end\n",
    "end\n"
   ]
  },
  {
   "cell_type": "markdown",
   "id": "chicken-conviction",
   "metadata": {},
   "source": [
    "# Benchmarking\n",
    "### Set k = 9 (largest possible and analyze the sequences), dir random"
   ]
  },
  {
   "cell_type": "code",
   "execution_count": 116,
   "id": "vanilla-outside",
   "metadata": {},
   "outputs": [],
   "source": [
    "using Plots"
   ]
  },
  {
   "cell_type": "code",
   "execution_count": 127,
   "id": "fifteen-productivity",
   "metadata": {},
   "outputs": [
    {
     "ename": "LoadError",
     "evalue": "\u001b[91mBoundsError: attempt to access 0-element Array{Int8,1} at index [80]\u001b[39m",
     "output_type": "error",
     "traceback": [
      "\u001b[91mBoundsError: attempt to access 0-element Array{Int8,1} at index [80]\u001b[39m",
      "",
      "Stacktrace:",
      " [1] getindex(::Array{Int8,1}, ::Int64) at .\\array.jl:809",
      " [2] top-level scope at .\\In[127]:5",
      " [3] include_string(::Function, ::Module, ::String, ::String) at .\\loading.jl:1091"
     ]
    }
   ],
   "source": [
    "#benchmarking_array = zeros(2^9 +1)\n",
    "for i in 1:1000\n",
    "    dir = rand(1:4)\n",
    "    R30rand(9,dir)\n",
    "    benchmarking_array[R30rand(9,dir)+1] += 1\n",
    "    IJulia.clear_output(true)\n",
    "    println(\"i = \", i)\n",
    "end\n",
    "\n",
    "#Saved in BenchmarchingArray.txt"
   ]
  },
  {
   "cell_type": "code",
   "execution_count": 136,
   "id": "young-chester",
   "metadata": {},
   "outputs": [],
   "source": [
    "x = 1:513\n",
    "y = [benchmarking_array[i] for i in x]\n",
    "plot(x,y, type=\"scatter\", labels = false)\n",
    "\n",
    "#savefig(\"benchmarking_array_k=9\")"
   ]
  }
 ],
 "metadata": {
  "kernelspec": {
   "display_name": "Julia 1.5.3",
   "language": "julia",
   "name": "julia-1.5"
  },
  "language_info": {
   "file_extension": ".jl",
   "mimetype": "application/julia",
   "name": "julia",
   "version": "1.5.3"
  }
 },
 "nbformat": 4,
 "nbformat_minor": 5
}
